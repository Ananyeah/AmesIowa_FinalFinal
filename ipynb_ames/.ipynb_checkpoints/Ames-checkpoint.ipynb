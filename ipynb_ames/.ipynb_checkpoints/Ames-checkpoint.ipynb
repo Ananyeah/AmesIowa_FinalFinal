{
 "cells": [
  {
   "cell_type": "code",
   "execution_count": 1,
   "metadata": {},
   "outputs": [],
   "source": [
    "import matplotlib.pyplot as plt\n",
    "import numpy as np\n",
    "import pandas as pd\n",
    "import seaborn as sns\n",
    "from scipy import stats\n",
    "\n",
    "from IPython.display import display\n",
    "from IPython import get_ipython\n",
    "get_ipython().run_line_magic('matplotlib', 'inline')"
   ]
  },
  {
   "cell_type": "code",
   "execution_count": 2,
   "metadata": {
    "scrolled": true
   },
   "outputs": [
    {
     "name": "stdout",
     "output_type": "stream",
     "text": [
      "/home/jovyan/finalfinal\n"
     ]
    }
   ],
   "source": [
    "cd .."
   ]
  },
  {
   "cell_type": "code",
   "execution_count": 3,
   "metadata": {},
   "outputs": [],
   "source": [
    "%run src/load_data.py"
   ]
  },
  {
   "cell_type": "code",
   "execution_count": 14,
   "metadata": {},
   "outputs": [
    {
     "data": {
      "text/plain": [
       "(2273, 80)"
      ]
     },
     "execution_count": 14,
     "metadata": {},
     "output_type": "execute_result"
    }
   ],
   "source": [
    "housing_df.head()\n",
    "housing_df.shape"
   ]
  },
  {
   "cell_type": "code",
   "execution_count": 5,
   "metadata": {},
   "outputs": [],
   "source": [
    "def run_model(model_name, X_train, y_train, X_test, y_test):\n",
    "    model = models[model_name]\n",
    "    model.fit(X_train , y_train)\n",
    "    return {\n",
    "        'model_name' : model_name,\n",
    "        'model_train_score' : model.score(X_train, y_train),\n",
    "        'model_test_score' : model.score(X_test, y_test)\n",
    "    }"
   ]
  },
  {
   "cell_type": "code",
   "execution_count": 6,
   "metadata": {},
   "outputs": [],
   "source": [
    "from sklearn import linear_model\n",
    "from sklearn.neighbors import KNeighborsRegressor\n",
    "from sklearn.tree import DecisionTreeRegressor\n",
    "from sklearn.svm import SVR\n",
    "train_data =  data['ames']['train']['engineered']\n",
    "train_labels = data['ames']['train']['labels']\n",
    "test_data =  data['ames']['test']['engineered']\n",
    "test_labels = data['ames']['test']['labels']\n",
    "\n",
    "models = {\n",
    "    'Ridge' : linear_model.Ridge(),\n",
    "    #'Lasso' : linear_model.Lasso(),\n",
    "    'K Nearest Neighbors' : KNeighborsRegressor(),\n",
    "    'Decision Tree' : DecisionTreeRegressor(),\n",
    "    'Support Vector Machines - RBF' : SVR(),\n",
    "    'Support Vector Machines - Linear' : SVR(kernel ='linear')\n",
    "}\n",
    "results = []\n",
    "for model_name in models.keys():\n",
    "    results.append(run_model(model_name, train_data, train_labels, test_data, test_labels))"
   ]
  },
  {
   "cell_type": "code",
   "execution_count": 7,
   "metadata": {},
   "outputs": [
    {
     "ename": "IndentationError",
     "evalue": "unexpected indent (<ipython-input-7-d60be587910c>, line 2)",
     "output_type": "error",
     "traceback": [
      "\u001b[0;36m  File \u001b[0;32m\"<ipython-input-7-d60be587910c>\"\u001b[0;36m, line \u001b[0;32m2\u001b[0m\n\u001b[0;31m    'Lasso' : linear_model.Lasso(),\u001b[0m\n\u001b[0m    ^\u001b[0m\n\u001b[0;31mIndentationError\u001b[0m\u001b[0;31m:\u001b[0m unexpected indent\n"
     ]
    }
   ],
   "source": [
    "#\"Fitting data with very small alpha may cause precision problems. ConvergenceWarning)\"\n",
    "    'Lasso' : linear_model.Lasso(),"
   ]
  },
  {
   "cell_type": "code",
   "execution_count": 8,
   "metadata": {},
   "outputs": [
    {
     "data": {
      "text/html": [
       "<div>\n",
       "<table border=\"1\" class=\"dataframe\">\n",
       "  <thead>\n",
       "    <tr style=\"text-align: right;\">\n",
       "      <th></th>\n",
       "      <th>model_name</th>\n",
       "      <th>model_test_score</th>\n",
       "      <th>model_train_score</th>\n",
       "    </tr>\n",
       "  </thead>\n",
       "  <tbody>\n",
       "    <tr>\n",
       "      <th>0</th>\n",
       "      <td>Ridge</td>\n",
       "      <td>0.838308</td>\n",
       "      <td>0.947164</td>\n",
       "    </tr>\n",
       "    <tr>\n",
       "      <th>1</th>\n",
       "      <td>K Nearest Neighbors</td>\n",
       "      <td>0.785377</td>\n",
       "      <td>0.891439</td>\n",
       "    </tr>\n",
       "    <tr>\n",
       "      <th>2</th>\n",
       "      <td>Decision Tree</td>\n",
       "      <td>0.657291</td>\n",
       "      <td>0.999999</td>\n",
       "    </tr>\n",
       "    <tr>\n",
       "      <th>3</th>\n",
       "      <td>Support Vector Machines - RBF</td>\n",
       "      <td>-0.047611</td>\n",
       "      <td>-0.070468</td>\n",
       "    </tr>\n",
       "    <tr>\n",
       "      <th>4</th>\n",
       "      <td>Support Vector Machines - Linear</td>\n",
       "      <td>0.065991</td>\n",
       "      <td>0.038319</td>\n",
       "    </tr>\n",
       "  </tbody>\n",
       "</table>\n",
       "</div>"
      ],
      "text/plain": [
       "                         model_name  model_test_score  model_train_score\n",
       "0                             Ridge          0.838308           0.947164\n",
       "1               K Nearest Neighbors          0.785377           0.891439\n",
       "2                     Decision Tree          0.657291           0.999999\n",
       "3     Support Vector Machines - RBF         -0.047611          -0.070468\n",
       "4  Support Vector Machines - Linear          0.065991           0.038319"
      ]
     },
     "execution_count": 8,
     "metadata": {},
     "output_type": "execute_result"
    }
   ],
   "source": [
    "results_df = pd.DataFrame(results)\n",
    "results_df"
   ]
  },
  {
   "cell_type": "code",
   "execution_count": 9,
   "metadata": {},
   "outputs": [],
   "source": [
    "from sklearn.model_selection import GridSearchCV\n",
    "from tqdm import tqdm"
   ]
  },
  {
   "cell_type": "code",
   "execution_count": 13,
   "metadata": {},
   "outputs": [
    {
     "name": "stderr",
     "output_type": "stream",
     "text": [
      "100%|██████████| 5/5 [13:51<00:00, 166.25s/it]\n"
     ]
    },
    {
     "data": {
      "text/html": [
       "<div>\n",
       "<table border=\"1\" class=\"dataframe\">\n",
       "  <thead>\n",
       "    <tr style=\"text-align: right;\">\n",
       "      <th></th>\n",
       "      <th>model_best_params</th>\n",
       "      <th>model_name</th>\n",
       "      <th>model_test_score</th>\n",
       "      <th>model_train_score</th>\n",
       "    </tr>\n",
       "  </thead>\n",
       "  <tbody>\n",
       "    <tr>\n",
       "      <th>0</th>\n",
       "      <td>{'alpha': 27}</td>\n",
       "      <td>Ridge</td>\n",
       "      <td>0.871117</td>\n",
       "      <td>0.859448</td>\n",
       "    </tr>\n",
       "    <tr>\n",
       "      <th>1</th>\n",
       "      <td>{'n_neighbors': 14}</td>\n",
       "      <td>K Nearest Neighbors</td>\n",
       "      <td>0.780543</td>\n",
       "      <td>0.830535</td>\n",
       "    </tr>\n",
       "    <tr>\n",
       "      <th>2</th>\n",
       "      <td>{'max_depth': 59}</td>\n",
       "      <td>Decision Tree</td>\n",
       "      <td>0.768933</td>\n",
       "      <td>0.787489</td>\n",
       "    </tr>\n",
       "    <tr>\n",
       "      <th>3</th>\n",
       "      <td>{'C': 241}</td>\n",
       "      <td>Support Vector Machines - RBF</td>\n",
       "      <td>0.069517</td>\n",
       "      <td>0.019416</td>\n",
       "    </tr>\n",
       "    <tr>\n",
       "      <th>4</th>\n",
       "      <td>{'C': 241}</td>\n",
       "      <td>Support Vector Machines - Linear</td>\n",
       "      <td>0.874041</td>\n",
       "      <td>0.850832</td>\n",
       "    </tr>\n",
       "  </tbody>\n",
       "</table>\n",
       "</div>"
      ],
      "text/plain": [
       "     model_best_params                        model_name  model_test_score  \\\n",
       "0        {'alpha': 27}                             Ridge          0.871117   \n",
       "1  {'n_neighbors': 14}               K Nearest Neighbors          0.780543   \n",
       "2    {'max_depth': 59}                     Decision Tree          0.768933   \n",
       "3           {'C': 241}     Support Vector Machines - RBF          0.069517   \n",
       "4           {'C': 241}  Support Vector Machines - Linear          0.874041   \n",
       "\n",
       "   model_train_score  \n",
       "0           0.859448  \n",
       "1           0.830535  \n",
       "2           0.787489  \n",
       "3           0.019416  \n",
       "4           0.850832  "
      ]
     },
     "execution_count": 13,
     "metadata": {},
     "output_type": "execute_result"
    }
   ],
   "source": [
    "models_params = {\n",
    "    'Ridge' : {'alpha': range(1,50)},\n",
    "    #'Lasso' : {'alpha': range(1,50)},\n",
    "    'K Nearest Neighbors' : {'n_neighbors': range(1,20)},\n",
    "    'Decision Tree' : {'max_depth': range(1,200)},\n",
    "    'Support Vector Machines - RBF' : {'C': range(1,250,10)},\n",
    "    'Support Vector Machines - Linear' : {'C': range(1,250,10)}\n",
    "}\n",
    "def run_model_grid_search(model_name, X_train, y_train, X_test, y_test):\n",
    "    model = models[model_name]\n",
    "    reg_params = models_params[model_name]\n",
    "    model_gs = GridSearchCV(model, \n",
    "                      param_grid= reg_params,\n",
    "                      cv=5,\n",
    "                      return_train_score=True)\n",
    "    model_gs.fit(X_train, y_train)\n",
    "    return {\n",
    "        'model_name' : model_name,\n",
    "        'model_best_params' : model_gs.best_params_,\n",
    "        'model_train_score' : model_gs.best_score_,\n",
    "        'model_test_score' : model_gs.score(X_test, y_test)\n",
    "    }\n",
    "\n",
    "results = []\n",
    "for model_name in tqdm(models.keys()):\n",
    "    results.append(run_model_grid_search(model_name, train_data, train_labels, test_data, test_labels))\n",
    "    results_df = pd.DataFrame(results)\n",
    "results_df"
   ]
  },
  {
   "cell_type": "code",
   "execution_count": 24,
   "metadata": {},
   "outputs": [],
   "source": [
    "from time import time"
   ]
  },
  {
   "cell_type": "code",
   "execution_count": 25,
   "metadata": {},
   "outputs": [],
   "source": [
    "def time_function_call(function):\n",
    "    def wrapper(*args, **kwargs):\n",
    "        start = time()\n",
    "        result = function(*args, **kwargs)\n",
    "        execution_time = time() - start\n",
    "        return result, execution_time\n",
    "    return wrapper\n",
    "\n",
    "@time_function_call\n",
    "def model_fit(model, X, y):\n",
    "    return model.fit(X, y)\n",
    "\n",
    "@time_function_call\n",
    "def model_predict(model, X):\n",
    "    return model.predict(X)\n",
    "\n",
    "def run_model(model, model_name, X_train, y_train, X_test, y_test):\n",
    "\n",
    "    _, fit_time = model_fit(model, X_train, y_train)\n",
    "    \n",
    "    train_pred, train_pred_time = model_predict(model, X_train)\n",
    "    \n",
    "    test_pred, test_pred_time = model_predict(model, X_test)   \n",
    "    \n",
    "    return {\n",
    "            'model' : model,\n",
    "            'model_name' : model_name,\n",
    "            'train_score' : model.score(X_train, y_train),\n",
    "            'test_score' : model.score(X_test, y_test),\n",
    "            'fit_time' : fit_time,\n",
    "            'train_pred_time' : train_pred_time,\n",
    "            'test_pred_time' : test_pred_time}"
   ]
  },
  {
   "cell_type": "code",
   "execution_count": null,
   "metadata": {},
   "outputs": [
    {
     "name": "stderr",
     "output_type": "stream",
     "text": [
      " 32%|███▏      | 6/19 [01:46<03:51, 17.83s/it]"
     ]
    }
   ],
   "source": [
    "test_results = []\n",
    "alpha_values = range(1,20)\n",
    "for ap in tqdm(alpha_values):\n",
    "    model = KNeighborsRegressor(n_neighbors=ap)\n",
    "    test_result = run_model(model,\n",
    "                            'K Nearest Neighbors',\n",
    "                            train_data, \n",
    "                            train_labels,\n",
    "                           test_data,\n",
    "                           test_labels)\n",
    "    test_results.append(test_result)"
   ]
  },
  {
   "cell_type": "code",
   "execution_count": null,
   "metadata": {},
   "outputs": [],
   "source": [
    "test_results_df = pd.DataFrame(test_results)\n",
    "test_results_df['n'] = test_results_df.model.apply(lambda model: model.neighbors)"
   ]
  },
  {
   "cell_type": "code",
   "execution_count": null,
   "metadata": {},
   "outputs": [],
   "source": [
    "plt.plot(test_results_df., test_results_df.train_score, label='train')\n",
    "plt.plot(test_results_df., test_results_df.test_score, label='test')\n",
    "plt.title('KNN Regression Score')\n",
    "plt.ylabel('R2')\n",
    "plt.xlabel('n')\n",
    "plt.legend()"
   ]
  },
  {
   "cell_type": "code",
   "execution_count": 31,
   "metadata": {},
   "outputs": [
    {
     "name": "stderr",
     "output_type": "stream",
     "text": [
      "100%|██████████| 20/20 [01:46<00:00,  5.32s/it]\n"
     ]
    }
   ],
   "source": [
    "test_results = []\n",
    "alpha_values = range(1,400,20)\n",
    "for ap in tqdm(alpha_values):\n",
    "    model = SVR(kernel ='linear',C=ap)\n",
    "    test_result = run_model(model,\n",
    "                            'Support Vector Machines - Linear',\n",
    "                            train_data, \n",
    "                            train_labels,\n",
    "                           test_data,\n",
    "                           test_labels)\n",
    "    test_results.append(test_result)"
   ]
  },
  {
   "cell_type": "code",
   "execution_count": 35,
   "metadata": {},
   "outputs": [],
   "source": [
    "test_results_df = pd.DataFrame(test_results)\n",
    "test_results_df['C'] = test_results_df.model.apply(lambda model: model.C)"
   ]
  },
  {
   "cell_type": "code",
   "execution_count": 38,
   "metadata": {},
   "outputs": [
    {
     "data": {
      "text/plain": [
       "<matplotlib.legend.Legend at 0x7f609e6cf940>"
      ]
     },
     "execution_count": 38,
     "metadata": {},
     "output_type": "execute_result"
    },
    {
     "data": {
      "image/png": "[encoded data removed]",
      "text/plain": [
       "<Figure size 432x288 with 1 Axes>"
      ]
     },
     "metadata": {},
     "output_type": "display_data"
    }
   ],
   "source": [
    "plt.plot(test_results_df.C, test_results_df.train_score, label='train')\n",
    "plt.plot(test_results_df.C, test_results_df.test_score, label='test')\n",
    "plt.title('SVM Regression Score')\n",
    "plt.ylabel('R2')\n",
    "plt.xlabel('C')\n",
    "plt.legend()"
   ]
  },
  {
   "cell_type": "code",
   "execution_count": 26,
   "metadata": {},
   "outputs": [
    {
     "name": "stderr",
     "output_type": "stream",
     "text": [
      "100%|██████████| 499/499 [00:24<00:00, 20.16it/s]\n"
     ]
    }
   ],
   "source": [
    "test_results = []\n",
    "alpha_values = range(1,500)\n",
    "for ap in tqdm(alpha_values):\n",
    "    model = linear_model.Ridge(alpha=ap)\n",
    "    test_result = run_model(model,\n",
    "                            'Ridge',\n",
    "                            train_data, \n",
    "                            train_labels,\n",
    "                           test_data,\n",
    "                           test_labels)\n",
    "    test_results.append(test_result)"
   ]
  },
  {
   "cell_type": "code",
   "execution_count": 27,
   "metadata": {},
   "outputs": [],
   "source": [
    "test_results_df = pd.DataFrame(test_results)\n",
    "test_results_df['alpha'] = test_results_df.model.apply(lambda model: model.alpha)"
   ]
  },
  {
   "cell_type": "code",
   "execution_count": 28,
   "metadata": {},
   "outputs": [
    {
     "data": {
      "text/plain": [
       "<matplotlib.legend.Legend at 0x7f609e667908>"
      ]
     },
     "execution_count": 28,
     "metadata": {},
     "output_type": "execute_result"
    },
    {
     "data": {
      "image/png": "[encoded data removed]",
      "text/plain": [
       "<Figure size 432x288 with 1 Axes>"
      ]
     },
     "metadata": {},
     "output_type": "display_data"
    }
   ],
   "source": [
    "plt.plot(test_results_df.alpha, test_results_df.train_score, label='train')\n",
    "plt.plot(test_results_df.alpha, test_results_df.test_score, label='test')\n",
    "plt.title('Ridge Regression Score')\n",
    "plt.ylabel('R2')\n",
    "plt.xlabel('alpha value')\n",
    "plt.legend()"
   ]
  },
  {
   "cell_type": "code",
   "execution_count": null,
   "metadata": {},
   "outputs": [],
   "source": []
  }
 ],
 "metadata": {
  "kernelspec": {
   "display_name": "Python 3",
   "language": "python",
   "name": "python3"
  },
  "language_info": {
   "codemirror_mode": {
    "name": "ipython",
    "version": 3
   },
   "file_extension": ".py",
   "mimetype": "text/x-python",
   "name": "python",
   "nbconvert_exporter": "python",
   "pygments_lexer": "ipython3",
   "version": "3.6.4"
  }
 },
 "nbformat": 4,
 "nbformat_minor": 2
}
