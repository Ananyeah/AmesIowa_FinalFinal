{
 "cells": [
  {
   "cell_type": "code",
   "execution_count": 1,
   "metadata": {},
   "outputs": [
    {
     "name": "stderr",
     "output_type": "stream",
     "text": [
      "ERROR:root:Internal Python error in the inspect module.\n",
      "Below is the traceback from this internal error.\n",
      "\n"
     ]
    },
    {
     "name": "stdout",
     "output_type": "stream",
     "text": [
      "Traceback (most recent call last):\n",
      "  File \"/opt/conda/lib/python3.6/site-packages/IPython/core/interactiveshell.py\", line 2910, in run_code\n",
      "    exec(code_obj, self.user_global_ns, self.user_ns)\n",
      "  File \"<ipython-input-1-008f7ee07f23>\", line 1, in <module>\n",
      "    import matplotlib.pyplot as plt\n",
      "  File \"/opt/conda/lib/python3.6/site-packages/matplotlib/pyplot.py\", line 39, in <module>\n",
      "    from matplotlib.figure import Figure, figaspect\n",
      "  File \"/opt/conda/lib/python3.6/site-packages/matplotlib/figure.py\", line 40, in <module>\n",
      "    from matplotlib.axes import Axes, SubplotBase, subplot_class_factory\n",
      "  File \"/opt/conda/lib/python3.6/site-packages/matplotlib/axes/__init__.py\", line 4, in <module>\n",
      "    from ._subplots import *\n",
      "  File \"/opt/conda/lib/python3.6/site-packages/matplotlib/axes/_subplots.py\", line 10, in <module>\n",
      "    from matplotlib.axes._axes import Axes\n",
      "  File \"<frozen importlib._bootstrap>\", line 971, in _find_and_load\n",
      "  File \"<frozen importlib._bootstrap>\", line 955, in _find_and_load_unlocked\n",
      "  File \"<frozen importlib._bootstrap>\", line 665, in _load_unlocked\n",
      "  File \"<frozen importlib._bootstrap>\", line 320, in __exit__\n",
      "KeyboardInterrupt\n",
      "\n",
      "During handling of the above exception, another exception occurred:\n",
      "\n",
      "Traceback (most recent call last):\n",
      "  File \"/opt/conda/lib/python3.6/site-packages/IPython/core/interactiveshell.py\", line 1828, in showtraceback\n",
      "    stb = value._render_traceback_()\n",
      "AttributeError: 'KeyboardInterrupt' object has no attribute '_render_traceback_'\n",
      "\n",
      "During handling of the above exception, another exception occurred:\n",
      "\n",
      "Traceback (most recent call last):\n",
      "  File \"/opt/conda/lib/python3.6/site-packages/IPython/core/ultratb.py\", line 1090, in get_records\n",
      "    return _fixed_getinnerframes(etb, number_of_lines_of_context, tb_offset)\n",
      "  File \"/opt/conda/lib/python3.6/site-packages/IPython/core/ultratb.py\", line 311, in wrapped\n",
      "    return f(*args, **kwargs)\n",
      "  File \"/opt/conda/lib/python3.6/site-packages/IPython/core/ultratb.py\", line 345, in _fixed_getinnerframes\n",
      "    records = fix_frame_records_filenames(inspect.getinnerframes(etb, context))\n",
      "  File \"/opt/conda/lib/python3.6/inspect.py\", line 1483, in getinnerframes\n",
      "    frameinfo = (tb.tb_frame,) + getframeinfo(tb, context)\n",
      "  File \"/opt/conda/lib/python3.6/inspect.py\", line 1441, in getframeinfo\n",
      "    filename = getsourcefile(frame) or getfile(frame)\n",
      "  File \"/opt/conda/lib/python3.6/inspect.py\", line 696, in getsourcefile\n",
      "    if getattr(getmodule(object, filename), '__loader__', None) is not None:\n",
      "  File \"/opt/conda/lib/python3.6/inspect.py\", line 739, in getmodule\n",
      "    f = getabsfile(module)\n",
      "  File \"/opt/conda/lib/python3.6/inspect.py\", line 708, in getabsfile\n",
      "    _filename = getsourcefile(object) or getfile(object)\n",
      "  File \"/opt/conda/lib/python3.6/inspect.py\", line 693, in getsourcefile\n",
      "    if os.path.exists(filename):\n",
      "  File \"/opt/conda/lib/python3.6/genericpath.py\", line 19, in exists\n",
      "    os.stat(path)\n",
      "KeyboardInterrupt\n"
     ]
    },
    {
     "ename": "KeyboardInterrupt",
     "evalue": "",
     "output_type": "error",
     "traceback": [
      "\u001b[0;31m---------------------------------------------------------------------------\u001b[0m"
     ]
    }
   ],
   "source": [
    "import matplotlib.pyplot as plt\n",
    "import numpy as np\n",
    "import pandas as pd\n",
    "import seaborn as sns\n",
    "from scipy import stats\n",
    "\n",
    "from IPython.display import display\n",
    "from IPython import get_ipython\n",
    "get_ipython().run_line_magic('matplotlib', 'inline')"
   ]
  },
  {
   "cell_type": "code",
   "execution_count": null,
   "metadata": {
    "scrolled": true
   },
   "outputs": [],
   "source": [
    "cd .."
   ]
  },
  {
   "cell_type": "code",
   "execution_count": null,
   "metadata": {},
   "outputs": [],
   "source": [
    "%run src/load_data.py"
   ]
  },
  {
   "cell_type": "code",
   "execution_count": null,
   "metadata": {},
   "outputs": [],
   "source": [
    "housing_df.head()\n",
    "housing_df.shape"
   ]
  },
  {
   "cell_type": "code",
   "execution_count": null,
   "metadata": {},
   "outputs": [],
   "source": [
    "def run_model(model_name, X_train, y_train, X_test, y_test):\n",
    "    model = models[model_name]\n",
    "    model.fit(X_train , y_train)\n",
    "    return {\n",
    "        'model_name' : model_name,\n",
    "        'model_train_score' : model.score(X_train, y_train),\n",
    "        'model_test_score' : model.score(X_test, y_test)\n",
    "    }"
   ]
  },
  {
   "cell_type": "code",
   "execution_count": null,
   "metadata": {},
   "outputs": [],
   "source": [
    "from sklearn import linear_model\n",
    "from sklearn.neighbors import KNeighborsRegressor\n",
    "from sklearn.tree import DecisionTreeRegressor\n",
    "from sklearn.svm import SVR\n",
    "train_data =  data['ames']['train']['engineered']\n",
    "train_labels = data['ames']['train']['labels']\n",
    "test_data =  data['ames']['test']['engineered']\n",
    "test_labels = data['ames']['test']['labels']\n",
    "\n",
    "models = {\n",
    "    'Ridge' : linear_model.Ridge(),\n",
    "    #'Lasso' : linear_model.Lasso(),\n",
    "    'K Nearest Neighbors' : KNeighborsRegressor(),\n",
    "    'Decision Tree' : DecisionTreeRegressor(),\n",
    "    'Support Vector Machines - RBF' : SVR(),\n",
    "    'Support Vector Machines - Linear' : SVR(kernel ='linear')\n",
    "}\n",
    "results = []\n",
    "for model_name in models.keys():\n",
    "    results.append(run_model(model_name, train_data, train_labels, test_data, test_labels))"
   ]
  },
  {
   "cell_type": "code",
   "execution_count": null,
   "metadata": {},
   "outputs": [],
   "source": [
    "#\"Fitting data with very small alpha may cause precision problems. ConvergenceWarning)\"\n",
    "    'Lasso' : linear_model.Lasso(),"
   ]
  },
  {
   "cell_type": "code",
   "execution_count": null,
   "metadata": {},
   "outputs": [],
   "source": [
    "results_df = pd.DataFrame(results)\n",
    "results_df"
   ]
  },
  {
   "cell_type": "code",
   "execution_count": null,
   "metadata": {},
   "outputs": [],
   "source": [
    "from sklearn.model_selection import GridSearchCV\n",
    "from tqdm import tqdm"
   ]
  },
  {
   "cell_type": "code",
   "execution_count": null,
   "metadata": {},
   "outputs": [],
   "source": [
    "models_params = {\n",
    "    'Ridge' : {'alpha': range(1,50)},\n",
    "    #'Lasso' : {'alpha': range(1,50)},\n",
    "    'K Nearest Neighbors' : {'n_neighbors': range(1,20)},\n",
    "    'Decision Tree' : {'max_depth': range(1,200)},\n",
    "    'Support Vector Machines - RBF' : {'C': range(1,250,10)},\n",
    "    'Support Vector Machines - Linear' : {'C': range(1,250,10)}\n",
    "}\n",
    "def run_model_grid_search(model_name, X_train, y_train, X_test, y_test):\n",
    "    model = models[model_name]\n",
    "    reg_params = models_params[model_name]\n",
    "    model_gs = GridSearchCV(model, \n",
    "                      param_grid= reg_params,\n",
    "                      cv=5,\n",
    "                      return_train_score=True)\n",
    "    model_gs.fit(X_train, y_train)\n",
    "    return {\n",
    "        'model_name' : model_name,\n",
    "        'model_best_params' : model_gs.best_params_,\n",
    "        'model_train_score' : model_gs.best_score_,\n",
    "        'model_test_score' : model_gs.score(X_test, y_test)\n",
    "    }\n",
    "\n",
    "results = []\n",
    "for model_name in tqdm(models.keys()):\n",
    "    results.append(run_model_grid_search(model_name, train_data, train_labels, test_data, test_labels))\n",
    "    results_df = pd.DataFrame(results)\n",
    "results_df"
   ]
  },
  {
   "cell_type": "code",
   "execution_count": null,
   "metadata": {},
   "outputs": [],
   "source": [
    "from time import time"
   ]
  },
  {
   "cell_type": "code",
   "execution_count": null,
   "metadata": {},
   "outputs": [],
   "source": [
    "def time_function_call(function):\n",
    "    def wrapper(*args, **kwargs):\n",
    "        start = time()\n",
    "        result = function(*args, **kwargs)\n",
    "        execution_time = time() - start\n",
    "        return result, execution_time\n",
    "    return wrapper\n",
    "\n",
    "@time_function_call\n",
    "def model_fit(model, X, y):\n",
    "    return model.fit(X, y)\n",
    "\n",
    "@time_function_call\n",
    "def model_predict(model, X):\n",
    "    return model.predict(X)\n",
    "\n",
    "def run_model(model, model_name, X_train, y_train, X_test, y_test):\n",
    "\n",
    "    _, fit_time = model_fit(model, X_train, y_train)\n",
    "    \n",
    "    train_pred, train_pred_time = model_predict(model, X_train)\n",
    "    \n",
    "    test_pred, test_pred_time = model_predict(model, X_test)   \n",
    "    \n",
    "    return {\n",
    "            'model' : model,\n",
    "            'model_name' : model_name,\n",
    "            'train_score' : model.score(X_train, y_train),\n",
    "            'test_score' : model.score(X_test, y_test),\n",
    "            'fit_time' : fit_time,\n",
    "            'train_pred_time' : train_pred_time,\n",
    "            'test_pred_time' : test_pred_time}"
   ]
  },
  {
   "cell_type": "code",
   "execution_count": null,
   "metadata": {},
   "outputs": [],
   "source": [
    "test_results = []\n",
    "alpha_values = range(1,20)\n",
    "for ap in tqdm(alpha_values):\n",
    "    model = KNeighborsRegressor(n_neighbors=ap)\n",
    "    test_result = run_model(model,\n",
    "                            'K Nearest Neighbors',\n",
    "                            train_data, \n",
    "                            train_labels,\n",
    "                           test_data,\n",
    "                           test_labels)\n",
    "    test_results.append(test_result)"
   ]
  },
  {
   "cell_type": "code",
   "execution_count": null,
   "metadata": {},
   "outputs": [],
   "source": [
    "test_results_df = pd.DataFrame(test_results)\n",
    "test_results_df['n'] = test_results_df.model.apply(lambda model: model.neighbors)"
   ]
  },
  {
   "cell_type": "code",
   "execution_count": null,
   "metadata": {},
   "outputs": [],
   "source": [
    "plt.plot(test_results_df., test_results_df.train_score, label='train')\n",
    "plt.plot(test_results_df., test_results_df.test_score, label='test')\n",
    "plt.title('KNN Regression Score')\n",
    "plt.ylabel('R2')\n",
    "plt.xlabel('n')\n",
    "plt.legend()"
   ]
  },
  {
   "cell_type": "code",
   "execution_count": null,
   "metadata": {},
   "outputs": [],
   "source": [
    "test_results = []\n",
    "alpha_values = range(1,400,20)\n",
    "for ap in tqdm(alpha_values):\n",
    "    model = SVR(kernel ='linear',C=ap)\n",
    "    test_result = run_model(model,\n",
    "                            'Support Vector Machines - Linear',\n",
    "                            train_data, \n",
    "                            train_labels,\n",
    "                           test_data,\n",
    "                           test_labels)\n",
    "    test_results.append(test_result)"
   ]
  },
  {
   "cell_type": "code",
   "execution_count": null,
   "metadata": {},
   "outputs": [],
   "source": [
    "test_results_df = pd.DataFrame(test_results)\n",
    "test_results_df['C'] = test_results_df.model.apply(lambda model: model.C)"
   ]
  },
  {
   "cell_type": "code",
   "execution_count": null,
   "metadata": {},
   "outputs": [],
   "source": [
    "plt.plot(test_results_df.C, test_results_df.train_score, label='train')\n",
    "plt.plot(test_results_df.C, test_results_df.test_score, label='test')\n",
    "plt.title('SVM Regression Score')\n",
    "plt.ylabel('R2')\n",
    "plt.xlabel('C')\n",
    "plt.legend()"
   ]
  },
  {
   "cell_type": "code",
   "execution_count": null,
   "metadata": {},
   "outputs": [],
   "source": [
    "test_results = []\n",
    "alpha_values = range(1,500)\n",
    "for ap in tqdm(alpha_values):\n",
    "    model = linear_model.Ridge(alpha=ap)\n",
    "    test_result = run_model(model,\n",
    "                            'Ridge',\n",
    "                            train_data, \n",
    "                            train_labels,\n",
    "                           test_data,\n",
    "                           test_labels)\n",
    "    test_results.append(test_result)"
   ]
  },
  {
   "cell_type": "code",
   "execution_count": null,
   "metadata": {},
   "outputs": [],
   "source": [
    "test_results_df = pd.DataFrame(test_results)\n",
    "test_results_df['alpha'] = test_results_df.model.apply(lambda model: model.alpha)"
   ]
  },
  {
   "cell_type": "code",
   "execution_count": null,
   "metadata": {},
   "outputs": [],
   "source": [
    "plt.plot(test_results_df.alpha, test_results_df.train_score, label='train')\n",
    "plt.plot(test_results_df.alpha, test_results_df.test_score, label='test')\n",
    "plt.title('Ridge Regression Score')\n",
    "plt.ylabel('R2')\n",
    "plt.xlabel('alpha value')\n",
    "plt.legend()"
   ]
  },
  {
   "cell_type": "code",
   "execution_count": null,
   "metadata": {},
   "outputs": [],
   "source": []
  }
 ],
 "metadata": {
  "kernelspec": {
   "display_name": "Python 3",
   "language": "python",
   "name": "python3"
  },
  "language_info": {
   "codemirror_mode": {
    "name": "ipython",
    "version": 3
   },
   "file_extension": ".py",
   "mimetype": "text/x-python",
   "name": "python",
   "nbconvert_exporter": "python",
   "pygments_lexer": "ipython3",
   "version": "3.6.4"
  }
 },
 "nbformat": 4,
 "nbformat_minor": 2
}
